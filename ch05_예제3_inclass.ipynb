{
  "nbformat": 4,
  "nbformat_minor": 0,
  "metadata": {
    "colab": {
      "provenance": []
    },
    "kernelspec": {
      "name": "python3",
      "display_name": "Python 3"
    },
    "language_info": {
      "name": "python"
    }
  },
  "cells": [
    {
      "cell_type": "code",
      "execution_count": null,
      "metadata": {
        "id": "FRH-DtOUns9v"
      },
      "outputs": [],
      "source": [
        "from google.colab import files\n",
        "import scipy.io\n",
        "import numpy as np\n",
        "import matplotlib.pyplot as plt\n",
        "\n",
        "print(\"SonarAlt.mat 파일을 업로드하세요.\")\n",
        "uploaded = files.upload()\n",
        "\n",
        "filename = list(uploaded.keys())[0]\n",
        "mat = scipy.io.loadmat(filename)\n",
        "\n",
        "data_key = [key for key in mat.keys() if not key.startswith('__')][0]\n",
        "sonar_alt = mat[data_key].squeeze()\n",
        "\n",
        "N_ma = 10        # MA 필터 길이\n",
        "alpha_ema = 0.2  # EMA 필터 계수\n",
        "\n",
        "# [In class #1] 평균 필터\n",
        "\n",
        "\n",
        "# [In class #1] MA 필터\n",
        "\n",
        "\n",
        "# [In class #3] EMA 필터\n",
        "\n",
        "\n",
        "# 시각화\n",
        "plt.figure(figsize=(12, 6))\n",
        "plt.plot(sonar_alt, label='Original', alpha=0.7)\n",
        "plt.plot(avg_filtered, label='Mean Filter', linestyle='--')\n",
        "plt.plot(ma_filtered, label=f'MA Filter (N={N_ma})')\n",
        "plt.plot(ema_filtered, label=f'EMA Filter (α={alpha_ema})')\n",
        "plt.title('Sonar Altitude - Original and Filtered Signals')\n",
        "plt.xlabel('Sample Index')\n",
        "plt.ylabel('Altitude')\n",
        "plt.legend()\n",
        "plt.grid(True)\n",
        "plt.tight_layout()\n",
        "plt.show()\n"
      ]
    }
  ]
}